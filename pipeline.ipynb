{
 "cells": [
  {
   "cell_type": "code",
   "execution_count": 2,
   "metadata": {
    "collapsed": true
   },
   "outputs": [],
   "source": [
    "from modelscope.pipelines import pipeline"
   ]
  },
  {
   "cell_type": "code",
   "execution_count": 23,
   "outputs": [
    {
     "name": "stderr",
     "output_type": "stream",
     "text": [
      "2023-04-24 16:33:02,797 - modelscope - INFO - Model revision not specified, use the latest revision: v1.0.3\n",
      "2023-04-24 16:33:03,070 - modelscope - INFO - initiate model from C:\\Users\\wentao\\.cache\\modelscope\\hub\\damo\\nlp_structbert_word-segmentation_chinese-base\n",
      "2023-04-24 16:33:03,070 - modelscope - INFO - initiate model from location C:\\Users\\wentao\\.cache\\modelscope\\hub\\damo\\nlp_structbert_word-segmentation_chinese-base.\n",
      "2023-04-24 16:33:03,070 - modelscope - INFO - initialize model from C:\\Users\\wentao\\.cache\\modelscope\\hub\\damo\\nlp_structbert_word-segmentation_chinese-base\n",
      "You are using a model of type bert to instantiate a model of type structbert. This is not supported for all configurations of models and can yield errors.\n",
      "2023-04-24 16:33:04,566 - modelscope - WARNING - No preprocessor field found in cfg.\n",
      "2023-04-24 16:33:04,566 - modelscope - WARNING - No val key and type key found in preprocessor domain of configuration.json file.\n",
      "2023-04-24 16:33:04,566 - modelscope - WARNING - Cannot find available config to build preprocessor at mode inference, current config: {'model_dir': 'C:\\\\Users\\\\wentao\\\\.cache\\\\modelscope\\\\hub\\\\damo\\\\nlp_structbert_word-segmentation_chinese-base'}. trying to build by task and model information.\n",
      "2023-04-24 16:33:04,582 - modelscope - WARNING - No preprocessor field found in cfg.\n",
      "2023-04-24 16:33:04,582 - modelscope - WARNING - No val key and type key found in preprocessor domain of configuration.json file.\n",
      "2023-04-24 16:33:04,582 - modelscope - WARNING - Cannot find available config to build preprocessor at mode inference, current config: {'model_dir': 'C:\\\\Users\\\\wentao\\\\.cache\\\\modelscope\\\\hub\\\\damo\\\\nlp_structbert_word-segmentation_chinese-base', 'sequence_length': 512}. trying to build by task and model information.\n"
     ]
    }
   ],
   "source": [
    "word_segmentation = pipeline('word-segmentation', device=\"cuda\")"
   ],
   "metadata": {
    "collapsed": false
   }
  },
  {
   "cell_type": "code",
   "execution_count": 26,
   "outputs": [
    {
     "name": "stdout",
     "output_type": "stream",
     "text": [
      "{'output': ['今天', '天气', '不错', '，', '适合', '出去', '游玩']}\n"
     ]
    }
   ],
   "source": [
    "input_str = '今天天气不错，适合出去游玩'\n",
    "print(word_segmentation(input_str))"
   ],
   "metadata": {
    "collapsed": false
   }
  },
  {
   "cell_type": "code",
   "execution_count": 25,
   "outputs": [
    {
     "name": "stdout",
     "output_type": "stream",
     "text": [
      "[{'output': ['今天', '天气', '不错', '，', '适合', '出去', '游玩']}, {'output': ['这', '本', '书', '很', '好', '，', '建议', '你', '看看']}]\n"
     ]
    }
   ],
   "source": [
    "inputs =  ['今天天气不错，适合出去游玩','这本书很好，建议你看看']\n",
    "print(word_segmentation(inputs, batch_size=2))"
   ],
   "metadata": {
    "collapsed": false
   }
  },
  {
   "cell_type": "code",
   "execution_count": 9,
   "outputs": [],
   "source": [
    "from modelscope.msdatasets import MsDataset"
   ],
   "metadata": {
    "collapsed": false
   }
  },
  {
   "cell_type": "code",
   "execution_count": 10,
   "outputs": [],
   "source": [
    "inputs = ['今天天气不错，适合出去游玩', '这本书很好，建议你看看']\n",
    "dataset = MsDataset.load(inputs, target='sentence')\n",
    "outputs = word_segmentation(dataset, device=\"cuda\")\n",
    "for o in outputs:\n",
    "    print(o)"
   ],
   "metadata": {
    "collapsed": false
   }
  },
  {
   "cell_type": "markdown",
   "source": [
    "## 指定预处理、模型进行推理"
   ],
   "metadata": {
    "collapsed": false
   }
  },
  {
   "cell_type": "code",
   "execution_count": 14,
   "outputs": [],
   "source": [
    "from modelscope.models import Model"
   ],
   "metadata": {
    "collapsed": false
   }
  },
  {
   "cell_type": "code",
   "execution_count": 27,
   "outputs": [
    {
     "name": "stderr",
     "output_type": "stream",
     "text": [
      "2023-04-24 16:39:17,150 - modelscope - INFO - Model revision not specified, use the latest revision: v1.0.3\n",
      "2023-04-24 16:39:17,335 - modelscope - INFO - initialize model from C:\\Users\\wentao\\.cache\\modelscope\\hub\\damo\\nlp_structbert_word-segmentation_chinese-base\n",
      "You are using a model of type bert to instantiate a model of type structbert. This is not supported for all configurations of models and can yield errors.\n",
      "2023-04-24 16:39:18,972 - modelscope - WARNING - No preprocessor field found in cfg.\n",
      "2023-04-24 16:39:18,972 - modelscope - WARNING - No val key and type key found in preprocessor domain of configuration.json file.\n",
      "2023-04-24 16:39:18,973 - modelscope - WARNING - Cannot find available config to build preprocessor at mode inference, current config: {'model_dir': 'C:\\\\Users\\\\wentao\\\\.cache\\\\modelscope\\\\hub\\\\damo\\\\nlp_structbert_word-segmentation_chinese-base'}. trying to build by task and model information.\n",
      "2023-04-24 16:39:18,982 - modelscope - WARNING - No preprocessor field found in cfg.\n",
      "2023-04-24 16:39:18,983 - modelscope - WARNING - No val key and type key found in preprocessor domain of configuration.json file.\n",
      "2023-04-24 16:39:18,983 - modelscope - WARNING - Cannot find available config to build preprocessor at mode inference, current config: {'model_dir': 'C:\\\\Users\\\\wentao\\\\.cache\\\\modelscope\\\\hub\\\\damo\\\\nlp_structbert_word-segmentation_chinese-base', 'sequence_length': 512}. trying to build by task and model information.\n"
     ]
    },
    {
     "name": "stdout",
     "output_type": "stream",
     "text": [
      "{'output': ['今天', '天气', '不错', '，', '适合', '出去', '游玩']}\n"
     ]
    }
   ],
   "source": [
    "model = Model.from_pretrained(\"damo/nlp_structbert_word-segmentation_chinese-base\")\n",
    "word_segmentation = pipeline(\"word-segmentation\", model=model, device=\"cuda\")\n",
    "input = '今天天气不错，适合出去游玩'\n",
    "print(word_segmentation(input))"
   ],
   "metadata": {
    "collapsed": false
   }
  },
  {
   "cell_type": "code",
   "execution_count": 18,
   "outputs": [],
   "source": [
    "from modelscope.preprocessors import Preprocessor, TokenClassificationTransformersPreprocessor"
   ],
   "metadata": {
    "collapsed": false
   }
  },
  {
   "cell_type": "code",
   "execution_count": 28,
   "outputs": [
    {
     "name": "stderr",
     "output_type": "stream",
     "text": [
      "2023-04-24 16:40:38,164 - modelscope - INFO - Model revision not specified, use the latest revision: v1.0.3\n",
      "2023-04-24 16:40:38,435 - modelscope - INFO - initialize model from C:\\Users\\wentao\\.cache\\modelscope\\hub\\damo\\nlp_structbert_word-segmentation_chinese-base\n",
      "You are using a model of type bert to instantiate a model of type structbert. This is not supported for all configurations of models and can yield errors.\n",
      "2023-04-24 16:40:39,954 - modelscope - WARNING - No preprocessor field found in cfg.\n",
      "2023-04-24 16:40:39,955 - modelscope - WARNING - No val key and type key found in preprocessor domain of configuration.json file.\n",
      "2023-04-24 16:40:39,956 - modelscope - WARNING - Cannot find available config to build preprocessor at mode inference, current config: {'model_dir': 'C:\\\\Users\\\\wentao\\\\.cache\\\\modelscope\\\\hub\\\\damo\\\\nlp_structbert_word-segmentation_chinese-base'}. trying to build by task and model information.\n"
     ]
    },
    {
     "name": "stdout",
     "output_type": "stream",
     "text": [
      "{'output': ['今天', '天气', '不错', '，', '适合', '出去', '游玩']}\n"
     ]
    }
   ],
   "source": [
    "model = Model.from_pretrained('damo/nlp_structbert_word-segmentation_chinese-base')\n",
    "tokenizer = Preprocessor.from_pretrained(model.model_dir)\n",
    "# Or call the constructor directly:\n",
    "# tokenizer = TokenClassificationTransformersPreprocessor(model.model_dir)\n",
    "word_segmentation = pipeline('word-segmentation', model=model, preprocessor=tokenizer, device=\"cuda\")\n",
    "input = '今天天气不错，适合出去游玩'\n",
    "print(word_segmentation(input))"
   ],
   "metadata": {
    "collapsed": false
   }
  },
  {
   "cell_type": "code",
   "execution_count": null,
   "outputs": [],
   "source": [],
   "metadata": {
    "collapsed": false
   }
  }
 ],
 "metadata": {
  "kernelspec": {
   "display_name": "Python 3",
   "language": "python",
   "name": "python3"
  },
  "language_info": {
   "codemirror_mode": {
    "name": "ipython",
    "version": 2
   },
   "file_extension": ".py",
   "mimetype": "text/x-python",
   "name": "python",
   "nbconvert_exporter": "python",
   "pygments_lexer": "ipython2",
   "version": "2.7.6"
  }
 },
 "nbformat": 4,
 "nbformat_minor": 0
}
